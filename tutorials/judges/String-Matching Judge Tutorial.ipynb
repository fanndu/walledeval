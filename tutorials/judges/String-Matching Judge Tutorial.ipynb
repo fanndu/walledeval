{
 "cells": [
  {
   "cell_type": "markdown",
   "id": "46905cc2-6810-419e-a607-e3c2d9de7c37",
   "metadata": {},
   "source": [
    "# String-Matching Judges\n",
    "\n",
    "As inspired by (and mostly subsumed from) [JailbreakEval](https://github.com/ThuCCSLab/JailbreakEval), we support a large variety of different String-Matching based Judges. These attempt to identify certain toxic pieces of text within the response that helps to show the LLM has done well or poorly for a given prompt.\n",
    "\n",
    "<small><i>We credit [JailbreakEval](https://github.com/ThuCCSLab/JailbreakEval) for providing a comprehensive list of such String-Matching Judges. Their efforts have helped us in developing this part of our codebase.</i></small>"
   ]
  },
  {
   "cell_type": "markdown",
   "id": "16b40266-838f-47aa-a7d0-8843653f580e",
   "metadata": {},
   "source": [
    "We support the following String-Matching Judges (from JailbreakEval):\n",
    "\n",
    "| Evaluator Name | Note |\r\n",
    "|---|---|\r\n",
    "|g-zou2023universal`| The default evaluator utilized in the optimization process of [GCG attack](https://arxiv.org/abs/2307.15043). <br/> The evaluator of [In-context Attack](https://arxiv.org/abs/2310.06387).  <br/> The evaluator of [SmoothLLM defense](https://arxiv.org/abs/2310.03684) on publicly-accessible models. |\r\n",
    "ng-zou2023universal-closed`| The evaluator to assess [GCG attack](https://arxiv.org/abs/2307.15043) on closed models. <br> The evaluator of [SmoothLLM defense](https://arxiv.org/abs/2310.03684) on closed models. |\r",
    "ing-zou2023universal-demo`| The evaluator to assess [GCG attack](https://arxiv.org/abs/2307.15043) on LLaMA2 models for demonstration. |hing-zou2023universal-individual`| The evaluator to assess [GCG attack](https://arxiv.org/abs/2307.15043) on invidual behaviors. ching-zou2023universal-transfer`| The evaluator to assess [GCG attack](https://arxiv.org/abs/2307.15043) on transferability.tching-lapid2023open`| The evaluator for [Open Sesame! Universal Black Box Jailbreaking of Large Language Models](https://arxiv.org/abs/2309.01446)atching-liu2024autodan-keyword`| The keyword evaluator proposed in the paper of [AutoDAN attack](https://arxiv.org/abs/2310.04451), primarily derived from `GCG-transferMatching-liu2024autodan-implementation`| The evaluator in the implementation of [AutoDAN attack](https://arxiv.org/abs/2310.0445gMatching-zhang2024intention-keyword`| The evaluator for [IA defense](https://arxiv.org/abs/2401.06561) on SAP200 and AdvBench dataset, primarily derived from `GCG-transfer`. |\r\n"
   ]
  },
  {
   "cell_type": "code",
   "execution_count": 1,
   "id": "5b988364-3bac-446a-b47e-7a86f85f3799",
   "metadata": {},
   "outputs": [],
   "source": [
    "import sys\n",
    "sys.path.append(\"../..\")"
   ]
  },
  {
   "cell_type": "markdown",
   "id": "2b9db8a4-ef3b-4188-b74c-e98c77964074",
   "metadata": {},
   "source": [
    "## Basic Usage"
   ]
  },
  {
   "cell_type": "code",
   "execution_count": 2,
   "id": "a2bd7baf-7259-48c7-a448-51ece9e90c3e",
   "metadata": {},
   "outputs": [],
   "source": [
    "from walledeval.judge import StringMatchingJudge"
   ]
  },
  {
   "cell_type": "code",
   "execution_count": 3,
   "id": "1fb0c35a-1fdb-4292-bdc1-96a21b1f21ec",
   "metadata": {},
   "outputs": [
    {
     "data": {
      "text/plain": [
       "False"
      ]
     },
     "execution_count": 3,
     "metadata": {},
     "output_type": "execute_result"
    }
   ],
   "source": [
    "judge = StringMatchingJudge.from_preset(\"zou2023universal\")\n",
    "\n",
    "judge.check(\"I cannot tell you. This is illegal.\")"
   ]
  },
  {
   "cell_type": "code",
   "execution_count": 4,
   "id": "9eb0548c-a790-4c28-861b-01f75b17e18f",
   "metadata": {},
   "outputs": [
    {
     "data": {
      "text/plain": [
       "True"
      ]
     },
     "execution_count": 4,
     "metadata": {},
     "output_type": "execute_result"
    }
   ],
   "source": [
    "judge.check(\"So fucking true haha\")"
   ]
  }
 ],
 "metadata": {
  "kernelspec": {
   "display_name": "Python 3 (ipykernel)",
   "language": "python",
   "name": "python3"
  },
  "language_info": {
   "codemirror_mode": {
    "name": "ipython",
    "version": 3
   },
   "file_extension": ".py",
   "mimetype": "text/x-python",
   "name": "python",
   "nbconvert_exporter": "python",
   "pygments_lexer": "ipython3",
   "version": "3.10.12"
  }
 },
 "nbformat": 4,
 "nbformat_minor": 5
}
