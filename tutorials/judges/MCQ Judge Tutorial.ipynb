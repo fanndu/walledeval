{
 "cells": [
  {
   "cell_type": "markdown",
   "id": "c987221d-c0f2-4935-b927-339707f9dbf4",
   "metadata": {},
   "source": [
    "# MCQ Judge\n",
    "\n",
    "We provide a simple parsing-based judge for evaluating LLMs on MCQ problems. The following steps are undertaken:\n",
    "- Removal of all whitespace and punctuation\n",
    "- Removal of any `answer` by checking the lowercase version of the response\n",
    "- Removal of any `boxed` by checking the lowercase version of the response\n",
    "- Checking if the first value is in our options range\n",
    "\n",
    "The class takes in a list of options, which is default set to a list of every letter in uppercase from `A` to `Z`."
   ]
  },
  {
   "cell_type": "code",
   "execution_count": 7,
   "id": "c485d173-f821-440e-a8c5-2a587e5817e6",
   "metadata": {},
   "outputs": [
    {
     "name": "stdout",
     "output_type": "stream",
     "text": [
      "The token has not been saved to the git credentials helper. Pass `add_to_git_credential=True` in this function directly or `--add-to-git-credential` if using via `huggingface-cli` if you want to set the git credential as well.\n",
      "Token is valid (permission: write).\n",
      "Your token has been saved to /root/.cache/huggingface/token\n",
      "Login successful\n"
     ]
    }
   ],
   "source": [
    "from dotenv import load_dotenv\n",
    "import os\n",
    "load_dotenv(\"../../.env\")\n",
    "\n",
    "from huggingface_hub import login\n",
    "login(os.getenv(\"HF_TOKEN\"))\n",
    "\n",
    "from transformers.utils import logging\n",
    "logging.set_verbosity_error() \n",
    "\n",
    "import sys\n",
    "sys.path.append(\"../..\")"
   ]
  },
  {
   "cell_type": "code",
   "execution_count": 8,
   "id": "381d241d-f1eb-4aab-93f9-5c4af8aa7b4b",
   "metadata": {},
   "outputs": [
    {
     "data": {
      "text/plain": [
       "<walledeval.llm.huggingface.HF_LLM at 0x7fe83c0c92d0>"
      ]
     },
     "execution_count": 8,
     "metadata": {},
     "output_type": "execute_result"
    }
   ],
   "source": [
    "from walledeval.llm import HF_LLM\n",
    "\n",
    "llama8b = HF_LLM(\"unsloth/llama-3-8b-Instruct-bnb-4bit\", type = 1, device_map=\"auto\")\n",
    "llama8b"
   ]
  },
  {
   "cell_type": "markdown",
   "id": "7f2c3401-bdc2-4f92-98c1-0f637366e3ac",
   "metadata": {},
   "source": [
    "## Basic Usage"
   ]
  },
  {
   "cell_type": "code",
   "execution_count": 9,
   "id": "d3c573c6-7f4a-43cc-b87e-fa8b8bb24cfc",
   "metadata": {},
   "outputs": [],
   "source": [
    "from walledeval.judge import MCQJudge\n",
    "\n",
    "judge = MCQJudge()"
   ]
  },
  {
   "cell_type": "code",
   "execution_count": 10,
   "id": "aeb076af-d43c-40c1-bf7a-9ccd66cf8334",
   "metadata": {},
   "outputs": [
    {
     "data": {
      "text/plain": [
       "True"
      ]
     },
     "execution_count": 10,
     "metadata": {},
     "output_type": "execute_result"
    }
   ],
   "source": [
    "judge.check(\"\"\"Answer: A\n",
    "\n",
    "Reason: It's quite obvious, no?\"\"\", answer = 0) # 0 corresponds to \"A\""
   ]
  },
  {
   "cell_type": "markdown",
   "id": "ea4cb71a-5943-43b9-a0c5-c58f58cc54db",
   "metadata": {},
   "source": [
    "Let's try it with an LLM this time."
   ]
  },
  {
   "cell_type": "code",
   "execution_count": 13,
   "id": "a435a39c-13e3-4781-91e5-315d7df8483a",
   "metadata": {},
   "outputs": [
    {
     "name": "stdout",
     "output_type": "stream",
     "text": [
      "Input:\n",
      "ANSWER: A\n"
     ]
    },
    {
     "data": {
      "text/plain": [
       "True"
      ]
     },
     "execution_count": 13,
     "metadata": {},
     "output_type": "execute_result"
    }
   ],
   "source": [
    "question = \"\"\"\n",
    "Answer the following multiple choice question. The entire content of your response should be of the following format: 'ANSWER: $$LETTER' (without quotes) where LETTER is one of ['A', 'B', 'C', 'D'].\n",
    "\n",
    "Q: Which of these cities is in India?\n",
    "\n",
    "A. New Delhi\n",
    "B. Bahrain\n",
    "C. Singapore\n",
    "D. Melbourne\n",
    "\n",
    "Answer:\"\"\"\n",
    "\n",
    "output = llama8b.generate(\n",
    "    question,\n",
    "    temperature=0.1\n",
    ")\n",
    "print(\"Input:\")\n",
    "print(output)\n",
    "\n",
    "judge.check(output, answer=0)"
   ]
  },
  {
   "cell_type": "markdown",
   "id": "a49f5380-d618-40b8-9c41-8c45a47155cb",
   "metadata": {},
   "source": [
    "Now let's try this out without using the conventional ABC."
   ]
  },
  {
   "cell_type": "code",
   "execution_count": 15,
   "id": "19dcc5ec-ae3c-4dcc-adbe-19cd2c82f730",
   "metadata": {},
   "outputs": [
    {
     "name": "stdout",
     "output_type": "stream",
     "text": [
      "Input:\n",
      "ANSWER: 1\n"
     ]
    },
    {
     "data": {
      "text/plain": [
       "True"
      ]
     },
     "execution_count": 15,
     "metadata": {},
     "output_type": "execute_result"
    }
   ],
   "source": [
    "question = \"\"\"\n",
    "Answer the following multiple choice question. The entire content of your response should be of the following format: 'ANSWER: $$NUMBER' (without quotes) where LETTER is one of [1, 2, 3, 4].\n",
    "\n",
    "Q: Which of these cities is in India?\n",
    "\n",
    "1. New Delhi\n",
    "2. Bahrain\n",
    "3. Singapore\n",
    "4. Melbourne\n",
    "\n",
    "Answer:\"\"\"\n",
    "\n",
    "numeric_judge = judge = MCQJudge(options=list('1234'))\n",
    "\n",
    "output = llama8b.generate(\n",
    "    question,\n",
    "    temperature=0.1\n",
    ")\n",
    "print(\"Input:\")\n",
    "print(output)\n",
    "\n",
    "judge.check(output, answer=0)"
   ]
  }
 ],
 "metadata": {
  "kernelspec": {
   "display_name": "Python 3 (ipykernel)",
   "language": "python",
   "name": "python3"
  },
  "language_info": {
   "codemirror_mode": {
    "name": "ipython",
    "version": 3
   },
   "file_extension": ".py",
   "mimetype": "text/x-python",
   "name": "python",
   "nbconvert_exporter": "python",
   "pygments_lexer": "ipython3",
   "version": "3.10.12"
  }
 },
 "nbformat": 4,
 "nbformat_minor": 5
}
