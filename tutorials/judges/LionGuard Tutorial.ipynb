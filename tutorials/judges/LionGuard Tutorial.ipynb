{
 "cells": [
  {
   "cell_type": "code",
   "execution_count": 1,
   "id": "36906df5-9345-4150-b977-d52b9beda6c4",
   "metadata": {},
   "outputs": [],
   "source": [
    "%load_ext autoreload\n",
    "%autoreload 2"
   ]
  },
  {
   "cell_type": "code",
   "execution_count": 2,
   "id": "66f9fb11-d63e-4b7d-b58e-00bc4f9c1f6e",
   "metadata": {},
   "outputs": [
    {
     "name": "stdout",
     "output_type": "stream",
     "text": [
      "/usr/bin/python\n"
     ]
    }
   ],
   "source": [
    "!which python"
   ]
  },
  {
   "cell_type": "code",
   "execution_count": 3,
   "id": "3ad0a0c1-fe1d-47d5-b1a6-7b87aa8db304",
   "metadata": {},
   "outputs": [
    {
     "name": "stdout",
     "output_type": "stream",
     "text": [
      "The token has not been saved to the git credentials helper. Pass `add_to_git_credential=True` in this function directly or `--add-to-git-credential` if using via `huggingface-cli` if you want to set the git credential as well.\n",
      "Token is valid (permission: write).\n",
      "Your token has been saved to /root/.cache/huggingface/token\n",
      "Login successful\n"
     ]
    }
   ],
   "source": [
    "from dotenv import load_dotenv\n",
    "import os\n",
    "load_dotenv(\"../.env\")\n",
    "\n",
    "from huggingface_hub import login\n",
    "from datasets import Dataset, load_dataset, DatasetDict\n",
    "login(os.getenv(\"HF_TOKEN\"))\n",
    "\n",
    "import sys\n",
    "sys.path.append(\"..\")"
   ]
  },
  {
   "cell_type": "code",
   "execution_count": 5,
   "id": "f99f6d5f-51f5-4429-b107-db2d1231c6d1",
   "metadata": {},
   "outputs": [],
   "source": [
    "from walledeval.judge import LionGuardJudge"
   ]
  },
  {
   "cell_type": "code",
   "execution_count": 11,
   "id": "6c4ef989-f529-4f82-bea4-00056700e262",
   "metadata": {},
   "outputs": [
    {
     "data": {
      "text/plain": [
       "<walledeval.judge.lionguard.LionGuardJudge at 0x7fb884453c10>"
      ]
     },
     "execution_count": 11,
     "metadata": {},
     "output_type": "execute_result"
    }
   ],
   "source": [
    "binary = LionGuardJudge.from_preset(\"binary\")\n",
    "binary"
   ]
  },
  {
   "cell_type": "code",
   "execution_count": 15,
   "id": "e7f131af-66c1-431c-98e8-40286280b30f",
   "metadata": {},
   "outputs": [
    {
     "data": {
      "text/plain": [
       "array([[ 0.0343454 ,  0.03316101,  0.02191255, ..., -0.00717639,\n",
       "        -0.00188533,  0.01511723]], dtype=float32)"
      ]
     },
     "execution_count": 15,
     "metadata": {},
     "output_type": "execute_result"
    }
   ],
   "source": [
    "binary.embed(\"Hello World\")"
   ]
  },
  {
   "cell_type": "code",
   "execution_count": 17,
   "id": "76823a20-0b69-447b-95c8-859bec7332a8",
   "metadata": {},
   "outputs": [
    {
     "data": {
      "text/plain": [
       "0.07944314947105535"
      ]
     },
     "execution_count": 17,
     "metadata": {},
     "output_type": "execute_result"
    }
   ],
   "source": [
    "binary.check(\"Hello World\")"
   ]
  },
  {
   "cell_type": "code",
   "execution_count": 19,
   "id": "1e449ced-b954-4e76-8e8a-a2d202c28e59",
   "metadata": {},
   "outputs": [
    {
     "data": {
      "text/plain": [
       "0.9448972910301721"
      ]
     },
     "execution_count": 19,
     "metadata": {},
     "output_type": "execute_result"
    }
   ],
   "source": [
    "binary.check(\"bloody fuck you bloody\")"
   ]
  },
  {
   "cell_type": "code",
   "execution_count": 34,
   "id": "6bd9a8dc-4c6b-4de4-ba62-7cb771ca407a",
   "metadata": {
    "scrolled": true
   },
   "outputs": [
    {
     "data": {
      "text/plain": [
       "0.6833139548316369"
      ]
     },
     "execution_count": 34,
     "metadata": {},
     "output_type": "execute_result"
    }
   ],
   "source": [
    "binary.check(\"knn\")"
   ]
  },
  {
   "cell_type": "code",
   "execution_count": null,
   "id": "0a3a393a-b3ac-415b-9dae-c02393d4f6f9",
   "metadata": {},
   "outputs": [],
   "source": []
  }
 ],
 "metadata": {
  "kernelspec": {
   "display_name": "Python 3 (ipykernel)",
   "language": "python",
   "name": "python3"
  },
  "language_info": {
   "codemirror_mode": {
    "name": "ipython",
    "version": 3
   },
   "file_extension": ".py",
   "mimetype": "text/x-python",
   "name": "python",
   "nbconvert_exporter": "python",
   "pygments_lexer": "ipython3",
   "version": "3.10.12"
  }
 },
 "nbformat": 4,
 "nbformat_minor": 5
}
